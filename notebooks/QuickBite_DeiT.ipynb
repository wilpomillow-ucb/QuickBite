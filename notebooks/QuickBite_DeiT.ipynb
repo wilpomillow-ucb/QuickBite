{
 "cells": [
  {
   "cell_type": "code",
   "execution_count": 1,
   "id": "1c8ceefc-2d74-40fe-af18-0f59d8075860",
   "metadata": {},
   "outputs": [],
   "source": [
    "#!pip install timm\n",
    "# !pip install opencv-python"
   ]
  },
  {
   "cell_type": "code",
   "execution_count": 2,
   "id": "7ac1c84a-a9d6-4d9f-a0db-7f1d532c4a8b",
   "metadata": {},
   "outputs": [],
   "source": [
    "import torch\n",
    "from torch.utils.data import Dataset, DataLoader\n",
    "from PIL import Image\n",
    "import torchvision\n",
    "from torchvision import transforms\n",
    "# import timm\n",
    "from timm import create_model\n",
    "\n",
    "import cv2\n",
    "import numpy as np\n",
    "import pandas as pd\n",
    "import os\n",
    "import shutil\n",
    "import matplotlib.pyplot as plt"
   ]
  },
  {
   "cell_type": "markdown",
   "id": "2157b5ad-1b8b-4137-97f1-bbc1ed1b6228",
   "metadata": {},
   "source": [
    "### Dataset\n",
    "Repurposed code from MobileNet model notebook. Changes made include directory reference to content folder, and the keep.csv is already filterd to the classes we wanted to keep."
   ]
  },
  {
   "cell_type": "code",
   "execution_count": 3,
   "id": "eeaccabc-04c5-4168-a6c6-f469fb1a9e22",
   "metadata": {},
   "outputs": [
    {
     "name": "stdout",
     "output_type": "stream",
     "text": [
      "dict_values(['macaron', 'beignet', 'cruller', 'cockle_food', 'samosa', 'tiramisu', 'tostada', 'moussaka', 'dumpling', 'sashimi', 'knish', 'croquette', 'couscous', 'porridge', 'stuffed_cabbage', 'seaweed_salad', 'chow_mein', 'rigatoni', 'beef_tartare', 'cannoli', 'foie_gras', 'cupcake', 'osso_buco', 'pad_thai', 'poutine', 'ramen', 'pulled_pork_sandwich', 'bibimbap', 'chicken_kiev', 'apple_pie', 'risotto', 'fruitcake', 'chop_suey', 'haggis', 'scrambled_eggs', 'frittata', 'scampi', 'sushi', 'orzo', 'fritter', 'nacho', 'beef_stroganoff', 'beef_wellington', 'spring_roll', 'savarin', 'crayfish_food', 'souffle', 'adobo', 'streusel', 'deviled_egg', 'escargot', 'club_sandwich', 'carrot_cake', 'falafel', 'farfalle', 'terrine', 'poached_egg', 'gnocchi', 'bubble_and_squeak', 'egg_roll', 'caprese_salad', 'sauerkraut', 'creme_brulee', 'pavlova', 'fondue', 'scallop', 'jambalaya', 'tempura', 'chocolate_cake', 'potpie', 'spaghetti_bolognese', 'sukiyaki', 'applesauce', 'baklava', 'salisbury_steak', 'linguine', 'edamame', 'coq_au_vin', 'tamale', 'macaroni_and_cheese', 'kedgeree', 'garlic_bread', 'beet_salad', 'steak_tartare', 'vermicelli', 'pate', 'pancake', 'tetrazzini', 'onion_rings', 'red_velvet_cake', 'compote', 'lobster_food', 'chicken_curry', 'chicken_wing', 'caesar_salad', 'succotash', 'hummus', 'fish_and_chips', 'lasagna', 'lutefisk', 'sloppy_joe', 'gingerbread', 'crab_cake', 'sauerbraten', 'peking_duck', 'guacamole', 'ham_sandwich', 'crumpet', 'taco', 'strawberry_shortcake', 'clam_chowder', 'cottage_pie', 'croque_madame', 'french_onion_soup', 'beef_carpaccio', 'torte', 'poi', 'crab_food', 'bacon_and_eggs', 'coffee_cake', 'custard', 'syllabub', 'pork_chop', 'fried_rice', 'boiled_egg', 'galantine', 'brisket', 'reuben', 'schnitzel', 'ambrosia_food', 'gyoza', 'jerky', 'ravioli', 'fried_calamari', 'spaghetti_carbonara', 'miso_soup', 'frozen_yogurt', 'wonton', 'panna_cotta', 'french_toast', 'enchilada', 'ceviche', 'fettuccine', 'chili', 'flan', 'kabob', 'sponge_cake', 'casserole', 'paella', 'blancmange', 'bruschetta', 'tortellini', 'grilled_salmon', 'french_fries', 'shrimp_and_grits', 'churro', 'donut', 'meat_loaf_food', 'meatball', 'scrapple', 'strudel', 'coconut_cake', 'marble_cake', 'filet_mignon', 'hamburger', 'fried_egg', 'tuna_tartare', 'penne', 'eggs_benedict', 'bread_pudding', 'takoyaki', 'tenderloin', 'chocolate_mousse', 'baked_alaska', 'hot_dog', 'confit', 'ham_and_eggs', 'biryani', 'greek_salad', 'huevos_rancheros', 'tagliatelle', 'stuffed_peppers', 'cannelloni', 'pizza', 'sausage_roll', 'chicken_quesadilla', 'hot_and_sour_soup', 'prime_rib', 'cheesecake', 'limpet_food', 'ziti', 'mussel', 'manicotti', 'ice_cream', 'waffle', 'oyster', 'omelette', 'clam_food', 'burrito', 'roulade', 'lobster_bisque', 'grilled_cheese_sandwich', 'gyro', 'pound_cake', 'pho', 'lobster_roll_sandwich', 'baby_back_rib', 'tapenade', 'pepper_steak', 'welsh_rarebit', 'pilaf', 'dolmas', 'coquilles_saint_jacques', 'veal_cordon_bleu', 'shirred_egg', 'barbecued_wing', 'lobster_thermidor', 'steak_au_poivre', 'huitre', 'chiffon_cake', 'profiterole', 'toad_in_the_hole', 'chicken_marengo', 'victoria_sandwich', 'tamale_pie', 'boston_cream_pie', 'fish_stick', 'crumb_cake', 'chicken_provencale', 'vol_au_vent', 'entrecote', 'carbonnade_flamande', 'bacon_lettuce_tomato_sandwich', 'scotch_egg', 'pirogi', 'peach_melba', 'upside_down_cake', 'applesauce_cake', 'rugulah', 'rock_cake', 'barbecued_spareribs', 'beef_bourguignonne', 'rissole', 'mostaccioli', 'apple_turnover', 'matzo_ball', 'chicken_cordon_bleu', 'eccles_cake', 'moo_goo_gai_pan', 'buffalo_wing', 'stuffed_tomato'])\n"
     ]
    }
   ],
   "source": [
    "# Class list\n",
    "# uploaded class_list to colab session -- todo: revise for local usage\n",
    "class_list_path = r\"C:\\Users\\linay\\Downloads\\ifood-2019-fgvc6\\class_list.txt\"\n",
    "\n",
    "class_mapping = {}\n",
    "\n",
    "# Open the file and read the contents\n",
    "with open(class_list_path, 'r') as file:\n",
    "    lines = file.readlines()\n",
    "    for line in lines:\n",
    "        # Split each line by space to separate the index and the class name\n",
    "        index, class_name = line.strip().split(' ', 1)\n",
    "        # Convert the index to an integer and add the mapping to the dictionary\n",
    "        class_mapping[int(index)] = class_name\n",
    "    print(class_mapping.values())"
   ]
  },
  {
   "cell_type": "code",
   "execution_count": 4,
   "id": "1c20de36-e192-4795-80be-214ad2535b6f",
   "metadata": {},
   "outputs": [
    {
     "name": "stdout",
     "output_type": "stream",
     "text": [
      "Classes to train for : 26\n"
     ]
    }
   ],
   "source": [
    "# Reduce classes after EDA process\n",
    "keep_list = r\"C:\\Users\\linay\\Downloads\\ifood-2019-fgvc6\\keep.csv\"\n",
    "df_keep = pd.read_csv(keep_list)\n",
    "## commenting out the below code because I already filtered the csv file to all of the classes we wanted to keep\n",
    "# df_keep = df_keep[df_keep['All Agree']=='True']\n",
    "print(\"Classes to train for :\", len(df_keep))\n",
    "classes_to_keep = df_keep['category_name'].tolist()"
   ]
  },
  {
   "cell_type": "code",
   "execution_count": 5,
   "id": "6a2d9819-470b-4f6e-a654-7e265dae8ca4",
   "metadata": {},
   "outputs": [
    {
     "name": "stdout",
     "output_type": "stream",
     "text": [
      "Filtered class mapping: 26\n"
     ]
    }
   ],
   "source": [
    "# Convert to an array of label IDs for classes to keep\n",
    "filtered_class_mapping = {index: class_name for index, class_name in class_mapping.items() if class_name in classes_to_keep}\n",
    "print(\"Filtered class mapping:\", len(filtered_class_mapping))\n",
    "filtered_class_ids = list(map(str, filtered_class_mapping.keys()))"
   ]
  },
  {
   "cell_type": "code",
   "execution_count": 6,
   "id": "f1773f88-2d0f-4005-bc76-0eb8e23bbe47",
   "metadata": {},
   "outputs": [
    {
     "name": "stdout",
     "output_type": "stream",
     "text": [
      "count of good data: 40631\n"
     ]
    }
   ],
   "source": [
    "# Check \"bad\" input test data, and return only those that are good\n",
    "type_1_data = pd.read_csv(r\"C:\\Users\\linay\\Downloads\\ifood-2019-fgvc6\\df_eda.csv\")\n",
    "type_1_data = type_1_data[(type_1_data['is_cartoon'] == False) & (type_1_data['has_face'] == False) & (type_1_data['is_media_art'] == False) & (type_1_data['has_text'] == False)]\n",
    "type_1_data = type_1_data['img_name'].to_list()\n",
    "print(\"count of good data:\", len(type_1_data))"
   ]
  },
  {
   "cell_type": "code",
   "execution_count": 7,
   "id": "e6624d77-9589-4870-8c79-0059864bb04c",
   "metadata": {},
   "outputs": [
    {
     "name": "stdout",
     "output_type": "stream",
     "text": [
      "This is the number of images that are in the filtered class in train set: 13988\n",
      "This is the number of images that are in the the filtered class and also are not bad images in train set: 5772\n"
     ]
    }
   ],
   "source": [
    "# Paths to the dataset\n",
    "train_dir = r\"C:\\Users\\linay\\Downloads\\ifood-2019-fgvc6\\train_set\\train_set\"\n",
    "val_dir   = r\"C:\\Users\\linay\\Downloads\\ifood-2019-fgvc6\\val_set\\val_set\"\n",
    "test_dir  = r\"C:\\Users\\linay\\Downloads\\ifood-2019-fgvc6\\test_set\\test_set\"\n",
    "\n",
    "# Path to the labels\n",
    "df_train = pd.read_csv(r\"C:\\Users\\linay\\Downloads\\ifood-2019-fgvc6\\train_labels.csv\")\n",
    "df_val   = pd.read_csv(r\"C:\\Users\\linay\\Downloads\\ifood-2019-fgvc6\\val_labels.csv\")\n",
    "\n",
    "# TypeError: If class_mode=\"categorical\", y_col=\"label\" column values must be type string, list or tuple.\n",
    "df_train['label'] = df_train['label'].astype(str)\n",
    "df_val['label']   = df_val['label'].astype(str)\n",
    "\n",
    "# Filter datasets to just classifications of interest\n",
    "df_train = df_train[df_train['label'].isin(filtered_class_ids)]\n",
    "print(\"This is the number of images that are in the filtered class in train set:\", len(df_train))\n",
    "df_train = df_train[df_train['img_name'].isin(type_1_data)]\n",
    "print(\"This is the number of images that are in the the filtered class and also are not bad images in train set:\", len(df_train))\n",
    "df_val   = df_val[df_val['label'].isin(filtered_class_ids)]"
   ]
  },
  {
   "cell_type": "code",
   "execution_count": 8,
   "id": "8bbdc4f5-9b63-47a9-9cae-826d31419890",
   "metadata": {},
   "outputs": [],
   "source": [
    "# append a new column and store the image directory in the columns\n",
    "df_train['image_directory'] = ''\n",
    "for index, row in df_train.iterrows():\n",
    "    df_train.loc[index, 'image_directory'] = os.path.join(train_dir, row['img_name']) \n",
    "\n",
    "# change the labels to integer \n",
    "df_train['label'] = df_train['label'].astype(int)\n",
    "\n",
    "# append a new column and store the image directory in the colums \n",
    "df_val['image_directory'] = ''\n",
    "for index, row in df_val.iterrows():\n",
    "    df_val.loc[index, 'image_directory'] = os.path.join(val_dir, row['img_name']) \n",
    "\n",
    "df_val['label'] = df_val['label'].astype(int)"
   ]
  },
  {
   "cell_type": "code",
   "execution_count": 9,
   "id": "5fcda9c7-38ad-416a-afc1-a64e13b55dbb",
   "metadata": {
    "scrolled": true
   },
   "outputs": [],
   "source": [
    "# # CUTE DELETE LATER\n",
    "# # Remove the images that we want to keep for classification \n",
    "# # Create a new folder to store the filtered dataset \n",
    "# # Identify the images for just classification interest \n",
    "# image_names = df_train['img_name'].tolist()\n",
    "# print(\"number of images for training\", len(image_names)) \n",
    "# # instantiate an empty list to store matched images \n",
    "# matched_image_directory = []\n",
    "\n",
    "# # iterate through the file names and check if each image exists in the directory \n",
    "# count = 0\n",
    "# for image in image_names:\n",
    "#     curr_train_dir = os.path.join(train_dir, image)\n",
    "#     # testing current image train_dir (setting curr_train_dir for EACH image, using global train_dir variable)\n",
    "#     # if (count < 5):\n",
    "#     #     print(curr_train_dir)\n",
    "#     #     count += 1\n",
    "#     if os.path.exists(train_dir):\n",
    "#         matched_image_directory.append(train_dir)\n",
    "# # print or use the list of matched images\n",
    "# print(\"number of images in the directory:\", len(matched_image_directory))"
   ]
  },
  {
   "cell_type": "code",
   "execution_count": 10,
   "id": "17c0cc48-f289-4ed9-b423-b9a4568e0915",
   "metadata": {},
   "outputs": [],
   "source": [
    "# # CUTE DELETE LATER\n",
    "# create the destination directory to store all of the filtered,clean images\n",
    "# new_train_dir = r\"C:\\Users\\linay\\Downloads\\ifood-2019-fgvc6\\train_set\\train_set_filtered\"\n",
    "# if not os.path.exists(new_train_dir):\n",
    "#     os.makedirs(new_train_dir)\n",
    "    \n",
    "# if os.path.exists(new_train_dir):\n",
    "#     for filename in os.listdir(new_train_dir): \n",
    "#         file_path = os.path.join(new_train_dir, filename)\n",
    "#         if os.path.isfile(file_path):\n",
    "#             os.remove(file_path)\n",
    "#             # print(f\"Deleted file: {file_path}\")\n",
    "\n",
    "# for image in image_names:\n",
    "#     src_file_path = os.path.join(train_dir, image)\n",
    "#     # print(src_file_path)\n",
    "#     if os.path.exists(src_file_path):\n",
    "#         shutil.copy2(src_file_path, new_train_dir)\n",
    "#         # print(f\"Copied {file_name} to {new_train_dir}\")"
   ]
  },
  {
   "cell_type": "markdown",
   "id": "acaef3dc-0b29-4322-91b7-e502092968f8",
   "metadata": {},
   "source": [
    "### Create and Evaluate Model"
   ]
  },
  {
   "cell_type": "code",
   "execution_count": 11,
   "id": "9185ad06-26e5-4e22-9d45-123c49a85585",
   "metadata": {},
   "outputs": [],
   "source": [
    "# Load training dataset and create data loader\n",
    "\n",
    "# takes the df_train pandas dataframe \n",
    "# and transforms as inputs and returns the image along with corresponding label\n",
    "class CustomImageDataset(Dataset): \n",
    "    def __init__(self, df, transform):\n",
    "        self.df = df\n",
    "        self.transform = transform\n",
    "\n",
    "    def __len__(self):\n",
    "        return len(self.df)\n",
    "\n",
    "    def __getitem__(self, index):\n",
    "        image_path = self.df.iloc[index, 2]  # assuming the image path is in the 3 column\n",
    "        label = self.df.iloc[index, 1]  # assuming the label is in the second column\n",
    "        image = Image.open(image_path)\n",
    "        image = self.transform(image)\n",
    "        return image, torch.tensor(label, dtype=torch.long)\n",
    "\n",
    "transform = transforms.Compose([\n",
    "    transforms.Resize(224),\n",
    "    transforms.CenterCrop(224),\n",
    "    transforms.ToTensor(),\n",
    "    transforms.Normalize(mean=[0.485, 0.456, 0.406], std=[0.229, 0.224, 0.225])\n",
    "])\n",
    "\n",
    "# create training data set and data loader\n",
    "data_set = CustomImageDataset(df_train, transform)\n",
    "data_loader = DataLoader(data_set, batch_size=32, shuffle=True)\n",
    "\n",
    "# create validation dataset and data loader\n",
    "validation_data_set = CustomImageDataset(df_val, transform)\n",
    "validation_data_loader = DataLoader(validation_data_set, batch_size=32, shuffle=False)"
   ]
  },
  {
   "cell_type": "code",
   "execution_count": 13,
   "id": "73b053a6-dd8f-45ed-9d31-749ba786d339",
   "metadata": {
    "scrolled": true
   },
   "outputs": [
    {
     "name": "stdout",
     "output_type": "stream",
     "text": [
      "Epoch 1: Loss = 2.4813, Validation Loss = 2.6160, Validation Accuracy = 0.2220\n",
      "Epoch 2: Loss = 1.3486, Validation Loss = 2.2389, Validation Accuracy = 0.3379\n",
      "Epoch 3: Loss = 2.4105, Validation Loss = 2.0364, Validation Accuracy = 0.3966\n",
      "Epoch 4: Loss = 1.4409, Validation Loss = 2.1213, Validation Accuracy = 0.3608\n",
      "Epoch 5: Loss = 1.7308, Validation Loss = 2.0988, Validation Accuracy = 0.3677\n",
      "Epoch 6: Loss = 1.2878, Validation Loss = 1.9435, Validation Accuracy = 0.4180\n",
      "Epoch 7: Loss = 0.7915, Validation Loss = 2.0224, Validation Accuracy = 0.4195\n",
      "Epoch 8: Loss = 1.7314, Validation Loss = 1.8997, Validation Accuracy = 0.4348\n",
      "Epoch 9: Loss = 0.8561, Validation Loss = 2.0754, Validation Accuracy = 0.4188\n",
      "Epoch 10: Loss = 0.8662, Validation Loss = 2.2820, Validation Accuracy = 0.4241\n",
      "Epoch 11: Loss = 0.8350, Validation Loss = 2.1602, Validation Accuracy = 0.4088\n",
      "Epoch 12: Loss = 0.6879, Validation Loss = 2.3239, Validation Accuracy = 0.4157\n",
      "Epoch 13: Loss = 0.9556, Validation Loss = 2.4666, Validation Accuracy = 0.4165\n",
      "Epoch 14: Loss = 0.9188, Validation Loss = 2.4016, Validation Accuracy = 0.4355\n",
      "Epoch 15: Loss = 0.4039, Validation Loss = 2.3574, Validation Accuracy = 0.4195\n",
      "Epoch 16: Loss = 0.5675, Validation Loss = 2.4836, Validation Accuracy = 0.4188\n",
      "Epoch 17: Loss = 0.2273, Validation Loss = 2.4549, Validation Accuracy = 0.4378\n",
      "Early stopping at epoch 18\n"
     ]
    }
   ],
   "source": [
    "# Load pre-trained DeiT model\n",
    "model = create_model('deit_base_patch16_224', pretrained=True)\n",
    "\n",
    "# Train the model\n",
    "criterion = torch.nn.CrossEntropyLoss()\n",
    "optimizer = torch.optim.Adam(model.parameters(), lr=0.001)\n",
    "\n",
    "# Instantiate lists to store training and validation loss and accuracy\n",
    "train_loss = []\n",
    "train_accuracy = []\n",
    "val_loss = []\n",
    "val_accuracy = []\n",
    "\n",
    "# create a function to evaluate the model on the validation set \n",
    "def evaluate(model, data_loader):\n",
    "    model.eval()\n",
    "    total_loss = 0\n",
    "    total_correct = 0\n",
    "    with torch.no_grad():\n",
    "        for images, labels in data_loader:\n",
    "            outputs = model(images)\n",
    "            loss = criterion(outputs, labels)\n",
    "            total_loss += loss.item()\n",
    "            _, predicted = torch.max(outputs, 1)\n",
    "            total_correct += (predicted == labels).sum().item()\n",
    "    accuracy = total_correct / len(data_loader.dataset)\n",
    "    return total_loss / len(data_loader), accuracy\n",
    "\n",
    "# instantiate the patience count and minimum delta\n",
    "patience = 10\n",
    "min_delta = 0.000001\n",
    "\n",
    "best_val_loss = float('inf')\n",
    "patience_count = 0\n",
    "\n",
    "for epoch in range(100):\n",
    "    total_loss = 0 \n",
    "    total_correct = 0\n",
    "    for images, labels in data_loader:\n",
    "        # Zero the gradients\n",
    "        optimizer.zero_grad()\n",
    "\n",
    "        # Forward pass\n",
    "        outputs = model(images)\n",
    "        loss = criterion(outputs, labels.squeeze())\n",
    "\n",
    "        # Backward pass\n",
    "        loss.backward()\n",
    "\n",
    "        # Update model parameters\n",
    "        optimizer.step()\n",
    "\n",
    "        total_loss += loss.item()\n",
    "        _, predicted = torch.max(outputs, 1)\n",
    "        total_correct += (predicted == labels).sum().item()\n",
    "    \n",
    "    # Calculate training loss and accuracy\n",
    "    train_loss.append(total_loss / len(data_loader))\n",
    "    train_accuracy.append(total_correct / len(data_loader.dataset))\n",
    "\n",
    "    \n",
    "    # evaluate the model on the validation set\n",
    "    model.eval()\n",
    "    validation_loss, validation_accuracy = evaluate(model, validation_data_loader)\n",
    "    val_loss.append(validation_loss)\n",
    "    val_accuracy.append(validation_accuracy)\n",
    "\n",
    "    # check to see if validation loss has improved \n",
    "    # stop if plateaus \n",
    "    if validation_loss < best_val_loss - min_delta:\n",
    "        best_val_loss = validation_loss\n",
    "        patience_count = 0\n",
    "    else:\n",
    "        patience_count += 1\n",
    "\n",
    "    if patience_count >= patience:\n",
    "        print(f\"Early stopping at epoch {epoch+1}\")\n",
    "        break    \n",
    "\n",
    "    # print loss and accuracy for each epoch \n",
    "    print('Epoch {}: Loss = {:.4f}, Validation Loss = {:.4f}, Validation Accuracy = {:.4f}'.format(epoch+1, loss.item(), validation_loss, validation_accuracy))"
   ]
  },
  {
   "cell_type": "code",
   "execution_count": 17,
   "id": "2d0e4563-edd1-4921-a362-5075b0dd18fe",
   "metadata": {},
   "outputs": [],
   "source": [
    "# save scores to csv \n",
    "def save_scores_to_csv(train_loss, train_accuracy, val_loss, val_accuracy, filename): \n",
    "    '''\n",
    "    stores train and validation loss and accuracy into a csv\n",
    "    '''\n",
    "    # create a dictionary to store the scores\n",
    "    scores = {\n",
    "        'Epoch': range(1, len(train_loss) + 1),\n",
    "        'Train Loss': train_loss,\n",
    "        'Train Accuracy': train_accuracy,\n",
    "        'Val Loss': val_loss,\n",
    "        'Val Accuracy': val_accuracy\n",
    "    }\n",
    "    \n",
    "    # convert the dictionary to a DataFrame\n",
    "    df = pd.DataFrame(scores)\n",
    "    \n",
    "    # save the DataFrame to a csv file\n",
    "    df.to_csv(filename, index=False)"
   ]
  },
  {
   "cell_type": "code",
   "execution_count": 18,
   "id": "557b7d41-0ebc-4b31-9355-703fcd0989ca",
   "metadata": {},
   "outputs": [],
   "source": [
    "# call the save score function to save my scores \n",
    "save_scores_to_csv(train_loss, train_accuracy, val_loss, val_accuracy,'scores.csv')"
   ]
  },
  {
   "cell_type": "code",
   "execution_count": 28,
   "id": "2dba80f3-3815-40c5-b850-942d4937fc4d",
   "metadata": {},
   "outputs": [],
   "source": [
    "def training_validation_loss_accuracy_plots(csv_file): \n",
    "    '''\n",
    "    take the csv file and transform the pandas dataframe\n",
    "    plot training and validation loss and accuracy \n",
    "    '''\n",
    "    df = pd.read_csv(csv_file) \n",
    "    \n",
    "    plt.figure(figsize=(10, 5))\n",
    "    \n",
    "    plt.subplot(1, 2, 1)\n",
    "    plt.plot(df['Epoch'], df['Train Loss'], label='Training Loss')\n",
    "    plt.plot(df['Epoch'], df['Val Loss'], label='Validation Loss')\n",
    "    plt.xlabel('Epoch')\n",
    "    plt.ylabel('Loss')\n",
    "    plt.legend()\n",
    "    plt.xticks(range(1, len(df['Epoch']) + 1)) \n",
    "    \n",
    "    plt.subplot(1, 2, 2)\n",
    "    plt.plot(df['Epoch'], df['Train Accuracy'], label='Training Accuracy')\n",
    "    plt.plot(df['Epoch'], df['Val Accuracy'], label='Validation Accuracy')\n",
    "    plt.xlabel('Epoch')\n",
    "    plt.ylabel('Accuracy')\n",
    "    plt.legend()\n",
    "    plt.xticks(range(1, len(df['Epoch']) + 1)) \n",
    "\n",
    "    plt.suptitle('Training and Validation Metrics')\n",
    "    plt.show()"
   ]
  },
  {
   "cell_type": "code",
   "execution_count": 29,
   "id": "4adf8279-4336-492a-bd22-628ebd065183",
   "metadata": {},
   "outputs": [
    {
     "data": {
      "image/png": "[encoded data removed]",
      "text/plain": [
       "<Figure size 1000x500 with 2 Axes>"
      ]
     },
     "metadata": {},
     "output_type": "display_data"
    }
   ],
   "source": [
    "# call the loss accuracy plot function \n",
    "training_validation_loss_accuracy_plots('scores.csv')"
   ]
  },
  {
   "cell_type": "code",
   "execution_count": null,
   "id": "c61d5b4b-7d16-47d3-aaef-a08092d0b13b",
   "metadata": {},
   "outputs": [],
   "source": []
  }
 ],
 "metadata": {
  "kernelspec": {
   "display_name": "Python 3 (ipykernel)",
   "language": "python",
   "name": "python3"
  },
  "language_info": {
   "codemirror_mode": {
    "name": "ipython",
    "version": 3
   },
   "file_extension": ".py",
   "mimetype": "text/x-python",
   "name": "python",
   "nbconvert_exporter": "python",
   "pygments_lexer": "ipython3",
   "version": "3.12.4"
  }
 },
 "nbformat": 4,
 "nbformat_minor": 5
}
